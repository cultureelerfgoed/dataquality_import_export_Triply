{
 "cells": [
  {
   "cell_type": "code",
   "execution_count": 1,
   "metadata": {},
   "outputs": [],
   "source": [
    "import pandas as pd\n",
    "import sqlite3\n",
    "import xml.etree.ElementTree as ET\n",
    "from lxml import etree"
   ]
  },
  {
   "cell_type": "markdown",
   "metadata": {},
   "source": [
    "### Datatranformatie van xml in SQLite3"
   ]
  },
  {
   "cell_type": "code",
   "execution_count": null,
   "metadata": {},
   "outputs": [],
   "source": [
    "def process_xml_to_sqlite(xml_path, db_path, tabel_naam, xml_tag, kolom_definities, kolom_pad, batch_size=100):\n",
    "\n",
    "    # Connect to SQLite \n",
    "    conn = sqlite3.connect(db_path)\n",
    "    cursor = conn.cursor()\n",
    "    cursor.execute(\"PRAGMA journal_mode = WAL;\")\n",
    "    cursor.execute(\"PRAGMA synchronous = OFF;\")\n",
    "    \n",
    "    # Verwijder de tabel als het al bestaat en vervang met een nieuwe tabel\n",
    "    cursor.execute(f\"DROP TABLE IF EXISTS {tabel_naam}\")\n",
    "    cursor.execute(f\"CREATE TABLE {tabel_naam} ({kolom_definities})\")\n",
    "    conn.commit()\n",
    "\n",
    "    data = []\n",
    "    # Verwerking van de XML \n",
    "    context = etree.iterparse(xml_path, events=(\"end\",), tag=xml_tag)\n",
    "    for event, elem in context:\n",
    "        row = tuple(elem.findtext(path) for path in kolom_pad)\n",
    "        data.append(row)\n",
    "        \n",
    "        # bulk insert als de batch hoeveelheid bereikt is\n",
    "        if len(data) >= batch_size:\n",
    "            placeholders = \", \".join(\"?\" for _ in kolom_pad)\n",
    "            cursor.executemany(\n",
    "                f\"INSERT OR REPLACE INTO {tabel_naam} VALUES ({placeholders})\", data\n",
    "            )\n",
    "            conn.commit()\n",
    "            data.clear()\n",
    "        \n",
    "        # Vrijmaken van geheugen door verwerkte elementen te verwijderen\n",
    "        elem.clear()\n",
    "        while elem.getprevious() is not None:\n",
    "            del elem.getparent()[0]\n",
    "\n",
    "    # Insert any remaining rows\n",
    "    if data:\n",
    "        placeholders = \", \".join(\"?\" for _ in kolom_pad)\n",
    "        cursor.executemany(\n",
    "            f\"INSERT OR REPLACE INTO {tabel_naam} VALUES ({placeholders})\", data\n",
    "        )\n",
    "        conn.commit()\n",
    "    \n",
    "    conn.close()\n",
    "    print(f\"XML is succesvol opgeslagen in SQLite: {db_path} (Tabel: {tabel_naam})\")"
   ]
  },
  {
   "cell_type": "markdown",
   "metadata": {},
   "source": [
    "#### archeologischOnderzoeksgebied"
   ]
  },
  {
   "cell_type": "code",
   "execution_count": null,
   "metadata": {},
   "outputs": [],
   "source": [
    "# archeologischOnderzoeksgebied\n",
    "kolom_definities_archeologischOnderzoeksgebied = \"\"\"\n",
    "    choId TEXT PRIMARY KEY,\n",
    "    typeCho TEXT,\n",
    "    vertrouwelijkheidPreflabel TEXT,\n",
    "    vertrouwelijkheidUri TEXT,\n",
    "    objectnummer TEXT,\n",
    "    basisregistratieId TEXT,\n",
    "    bagRelatieId TEXT,\n",
    "    plaatsnaam TEXT,\n",
    "    geometrieId TEXT,\n",
    "    besluit TEXT,\n",
    "    WKTRD TEXT,\n",
    "    WKT TEXT,\n",
    "    registratiedatum TEXT\n",
    "\"\"\"\n",
    "kolom_pad_archeologischOnderzoeksgebied = (\n",
    "    \"choId\",\n",
    "    \"typeCho\",\n",
    "    \"vertrouwelijkheid/preflabel\",\n",
    "    \"vertrouwelijkheid/uri\",\n",
    "    \"objectnummer\",\n",
    "    \"basisregistratie/basisregistratieId\",\n",
    "    \"basisregistratie/bagRelatie/bagRelatieId\",\n",
    "    \"asisregistratie/bagRelatie/plaatsnaam\",\n",
    "    \"geometrie/geometrieId\",\n",
    "    \"geometrie/besluit\",\n",
    "    \"geometrie/WKTRD\",\n",
    "    \"geometrie/WKT\",\n",
    "    \"registratiedatum\"\n",
    ")"
   ]
  },
  {
   "cell_type": "markdown",
   "metadata": {},
   "source": [
    "#### archeologischComplex"
   ]
  },
  {
   "cell_type": "code",
   "execution_count": null,
   "metadata": {},
   "outputs": [],
   "source": [
    "# archeologischComplex\n",
    "kolom_definities_archeologischComplex = \"\"\"\n",
    "    choId TEXT PRIMARY KEY,\n",
    "    typeCho TEXT,\n",
    "    vertrouwelijkheidPreflabel TEXT,\n",
    "    vertrouwelijkheidUri TEXT,\n",
    "    objectnummer TEXT,\n",
    "    identificatie TEXT,\n",
    "    samenhangChoId TEXT,\n",
    "    samenhangTypeCho TEXT,\n",
    "    samenhangRelatiePreflabel TEXT,\n",
    "    samenhangRelatieUri TEXT,\n",
    "    samenhangToelichting TEXT,\n",
    "    kennisregistratienummer TEXT,\n",
    "    typeKennis TEXT,\n",
    "    zaakId TEXT,\n",
    "    kennisVertrouwelijkheidPreflabel TEXT,\n",
    "    kennisVertrouwelijkheidUri TEXT,\n",
    "    formeelStandpunt TEXT,\n",
    "    typekenmerkPreflabel TEXT,\n",
    "    typekenmerkUri TEXT,\n",
    "    typenaamPreflabel TEXT,\n",
    "    typenaamUri TEXT\n",
    "\"\"\"\n",
    "kolom_pad_archeologischComplex = (\n",
    "    \"choId\",\n",
    "    \"typeCho\",\n",
    "    \"vertrouwelijkheid/preflabel\",\n",
    "    \"vertrouwelijkheid/uri\",\n",
    "    \"objectnummer\",\n",
    "    \"identificatie\",\n",
    "    \"samenhang/isRelatieVan/choId\",\n",
    "    \"samenhang/isRelatieVan/typeCho\",\n",
    "    \"samenhang/relatieType/preflabel\",\n",
    "    \"samenhang/relatieType/uri\",\n",
    "    \"samenhang/toelichting\",\n",
    "    \"kennisregistratie/kennisregistratienummer\",\n",
    "    \"kennisregistratie/typeKennis\",\n",
    "    \"kennisregistratie/zaakId\",\n",
    "    \"kennisregistratie/vertrouwelijkheid/preflabel\",\n",
    "    \"kennisregistratie/vertrouwelijkheid/uri\",\n",
    "    \"kennisregistratie/formeelStandpunt\",\n",
    "    \"kennisregistratie/type/typekenmerk/preflabel\",\n",
    "    \"kennisregistratie/type/typekenmerk/uri\",\n",
    "    \"kennisregistratie/type/typenaam/preflabel\",\n",
    "    \"kennisregistratie/type/typenaam/uri\"\n",
    ")"
   ]
  },
  {
   "cell_type": "markdown",
   "metadata": {},
   "source": [
    "#### grondsporen"
   ]
  },
  {
   "cell_type": "code",
   "execution_count": null,
   "metadata": {},
   "outputs": [],
   "source": [
    "\n",
    "kolom_definities_grondsporen = \"\"\"\n",
    "    choId TEXT NOT NULL,\n",
    "    typeCho TEXT,\n",
    "    objectnummer TEXT,\n",
    "    identificatie TEXT,\n",
    "    kennisregistratienummer TEXT,\n",
    "    typeKennis TEXT,\n",
    "    formeelStandpunt TEXT,\n",
    "    omschrijving TEXT,\n",
    "    omschrijvingPreflabel TEXT,\n",
    "    omschrijvingUri TEXT,\n",
    "    registratiedatum TEXT\n",
    "\"\"\"\n",
    "\n",
    "kolom_pad_grondsporen = (\n",
    "    \"choId\",\n",
    "    \"typeCho\",\n",
    "    \"objectnummer\",\n",
    "    \"identificatie\",\n",
    "    \"kennisregistratie/kennisregistratienummer\",\n",
    "    \"kennisregistratie/typeKennis\",\n",
    "    \"kennisregistratie/formeelStandpunt\",\n",
    "    \"kennisregistratie/omschrijving/tekst\",\n",
    "    \"kennisregistratie/omschrijving/omschrijvingstype/preflabel\",\n",
    "    \"kennisregistratie/omschrijving/omschrijvingstype/uri\",\n",
    "    \"registratiedatum\"\n",
    ")\n"
   ]
  },
  {
   "cell_type": "markdown",
   "metadata": {},
   "source": [
    "#### vondstlocatie"
   ]
  },
  {
   "cell_type": "code",
   "execution_count": null,
   "metadata": {},
   "outputs": [],
   "source": [
    "kolom_definities_vondstlocatie = \"\"\"\n",
    "    choId TEXT NOT NULL,\n",
    "    typeCho TEXT,\n",
    "    vertrouwelijkheidPreflabel TEXT,\n",
    "    vertrouwelijkheidUri TEXT,\n",
    "    objectnummer TEXT,\n",
    "    basisregistratieId TEXT,\n",
    "    bagRelatieId TEXT,\n",
    "    plaatsnaam TEXT,\n",
    "    locatieAanduidingId TEXT,\n",
    "    locatietype TEXT,\n",
    "    locatienaam TEXT,\n",
    "    kennisregistratienummer TEXT,\n",
    "    typeKennis TEXT,\n",
    "    zaakId TEXT,\n",
    "    kennisVertrouwelijkheidPreflabel TEXT,\n",
    "    kennisVertrouwelijkheidUri TEXT,\n",
    "    formeelStandpunt TEXT,\n",
    "    omschrijving TEXT,\n",
    "    omschrijvingPreflabel TEXT,\n",
    "    omschrijvingUri TEXT,\n",
    "    registratiedatum TEXT\n",
    "\"\"\"\n",
    "\n",
    "kolom_pad_vondstlocatie = (\n",
    "    \"choId\",\n",
    "    \"typeCho\",\n",
    "    \"vertrouwelijkheid/preflabel\",\n",
    "    \"vertrouwelijkheid/uri\",\n",
    "    \"objectnummer\",\n",
    "    \"basisregistratie/basisregistratieId\",\n",
    "    \"basisregistratie/bagRelatie/bagRelatieId\",\n",
    "    \"basisregistratie/bagRelatie/plaatsnaam\",\n",
    "    \"locatieAanduiding/locatieAanduidingId\",\n",
    "    \"locatieAanduiding/locatietype\",\n",
    "    \"locatieAanduiding/locatienaam\",\n",
    "    \"kennisregistratie/kennisregistratienummer\",\n",
    "    \"kennisregistratie/typeKennis\",\n",
    "    \"kennisregistratie/zaakId\",\n",
    "    \"kennisregistratie/vertrouwelijkheid/preflabel\",\n",
    "    \"kennisregistratie/vertrouwelijkheid/uri\",\n",
    "    \"kennisregistratie/formeelStandpunt\",\n",
    "    \"kennisregistratie/omschrijving/tekst\",\n",
    "    \"kennisregistratie/omschrijving/omschrijvingstype/preflabel\",\n",
    "    \"kennisregistratie/omschrijving/omschrijvingstype/uri\",\n",
    "    \"registratiedatum\"\n",
    ")\n"
   ]
  },
  {
   "cell_type": "markdown",
   "metadata": {},
   "source": [
    "#### Vondsten"
   ]
  },
  {
   "cell_type": "code",
   "execution_count": null,
   "metadata": {},
   "outputs": [],
   "source": [
    "kolom_definities_vondsten = \"\"\"\n",
    "    choId TEXT PRIMARY KEY,\n",
    "    typeCho TEXT,\n",
    "    vertrouwelijkheidPreflabel TEXT,\n",
    "    vertrouwelijkheidUri TEXT,\n",
    "    objectnummer TEXT,\n",
    "    identificatie TEXT,\n",
    "    samenhangChoId TEXT,\n",
    "    samenhangTypeCho TEXT,\n",
    "    samenhangRelatiePreflabel TEXT,\n",
    "    samenhangRelatieUri TEXT,\n",
    "    samenhangToelichting TEXT,\n",
    "    kennisregistratienummer TEXT,\n",
    "    typeKennis TEXT,\n",
    "    zaakId TEXT,\n",
    "    kennisVertrouwelijkheidPreflabel TEXT,\n",
    "    kennisVertrouwelijkheidUri TEXT,\n",
    "    formeelStandpunt TEXT,\n",
    "    typekenmerkPreflabel TEXT,\n",
    "    typekenmerkUri TEXT,\n",
    "    typennaamPreflabel TEXT,\n",
    "    typennaamUri TEXT,\n",
    "    aantal TEXT,\n",
    "    outerRegistratiedatum TEXT\n",
    "\"\"\"\n",
    "\n",
    "kolom_pad_vondsten = (\n",
    "    \"choId\",\n",
    "    \"typeCho\",\n",
    "    \"vertrouwelijkheid/preflabel\",\n",
    "    \"vertrouwelijkheid/uri\",\n",
    "    \"objectnummer\",\n",
    "    \"identificatie\",\n",
    "    \"samenhang/isRelatieVan/choId\",\n",
    "    \"samenhang/isRelatieVan/typeCho\",\n",
    "    \"samenhang/relatieType/preflabel\",\n",
    "    \"samenhang/relatieType/uri\",\n",
    "    \"samenhang/toelichting\",\n",
    "    \"kennisregistratie[typeKennis='Type']/kennisregistratienummer\",\n",
    "    \"kennisregistratie[typeKennis='Type']/typeKennis\",\n",
    "    \"kennisregistratie[typeKennis='Type']/zaakId\",\n",
    "    \"kennisregistratie[typeKennis='Type']/vertrouwelijkheid/preflabel\",\n",
    "    \"kennisregistratie[typeKennis='Type']/vertrouwelijkheid/uri\",\n",
    "    \"kennisregistratie[typeKennis='Type']/formeelStandpunt\",\n",
    "    \"kennisregistratie[typeKennis='Type']/type/typekenmerk/preflabel\",\n",
    "    \"kennisregistratie[typeKennis='Type']/type/typekenmerk/uri\",\n",
    "    \"kennisregistratie[typeKennis='Type']/type/typenaam/preflabel\",\n",
    "    \"kennisregistratie[typeKennis='Type']/type/typenaam/uri\",\n",
    "    \"aantal\",\n",
    "    \"registratiedatum\"\n",
    ")"
   ]
  },
  {
   "cell_type": "markdown",
   "metadata": {},
   "source": [
    "#### Datasets naar database"
   ]
  },
  {
   "cell_type": "code",
   "execution_count": null,
   "metadata": {},
   "outputs": [],
   "source": [
    "# Archeologisch onderzoeksgebied\n",
    "process_xml_to_sqlite(\"sourceDatasets/ldv_cho_archis.xml\", \"database.db\", \"archeologischOnderzoeksgebiedPostTriply\",\n",
    "                       \"archeologischOnderzoeksgebied\", kolom_definities_archeologischOnderzoeksgebied, kolom_pad_archeologischOnderzoeksgebied)"
   ]
  },
  {
   "cell_type": "code",
   "execution_count": null,
   "metadata": {},
   "outputs": [],
   "source": [
    "# archeologischComplex\n",
    "process_xml_to_sqlite(\"sourceDatasets/ldv_cho_archis.xml\", \"database.db\", \"archeologischComplexPostTriply\",\n",
    "                       \"archeologischComplex\", kolom_definities_archeologischComplex, kolom_pad_archeologischComplex)"
   ]
  },
  {
   "cell_type": "code",
   "execution_count": null,
   "metadata": {},
   "outputs": [],
   "source": [
    "# vondsten\n",
    "process_xml_to_sqlite(\n",
    "    xml_path=\"sourceDatasets/ldv_cho_archis.xml\",\n",
    "    db_path=\"database.db\",\n",
    "    tabel_naam=\"vondstenPostTriply\",\n",
    "    xml_tag=\"vondsten\",  \n",
    "    kolom_definities=kolom_definities_vondsten,\n",
    "    kolom_pad=kolom_pad_vondsten,\n",
    "    batch_size=100\n",
    ")\n"
   ]
  },
  {
   "cell_type": "code",
   "execution_count": null,
   "metadata": {},
   "outputs": [],
   "source": [
    "# vondstlocatie\n",
    "process_xml_to_sqlite(\n",
    "        xml_path=\"sourceDatasets/ldv_cho_archis.xml\",\n",
    "        db_path=\"database.db\",\n",
    "        tabel_naam=\"vondstlocatiePostTriply\",\n",
    "        xml_tag=\"vondstlocatie\",\n",
    "        kolom_definities=kolom_definities_vondstlocatie,\n",
    "        kolom_pad=kolom_pad_vondstlocatie,\n",
    "        batch_size=100\n",
    "    )"
   ]
  },
  {
   "cell_type": "code",
   "execution_count": null,
   "metadata": {},
   "outputs": [],
   "source": [
    "# grondsporen\n",
    "process_xml_to_sqlite(\n",
    "    xml_path=\"sourceDatasets/ldv_cho_archis.xml\",\n",
    "    db_path=\"database.db\",\n",
    "    tabel_naam=\"grondsporenPostTriply\",\n",
    "    xml_tag=\"grondsporen\",\n",
    "    kolom_definities=kolom_definities_grondsporen,\n",
    "    kolom_pad=kolom_pad_grondsporen,\n",
    "    batch_size=100\n",
    ")"
   ]
  },
  {
   "cell_type": "markdown",
   "metadata": {},
   "source": [
    "### Dataverwerking"
   ]
  },
  {
   "cell_type": "code",
   "execution_count": null,
   "metadata": {},
   "outputs": [],
   "source": [
    "def load_table_to_dataframe(db_path, tabel_naam):\n",
    "    conn = sqlite3.connect(db_path)\n",
    "    df = pd.read_sql_query(f\"SELECT * FROM {tabel_naam}\", conn)\n",
    "    conn.close()\n",
    "    return df"
   ]
  },
  {
   "cell_type": "code",
   "execution_count": null,
   "metadata": {},
   "outputs": [],
   "source": [
    "df_archeologischOnderzoeksgebiedPostTriply = load_table_to_dataframe(\"database.db\", \"archeologischOnderzoeksgebiedPostTriply\")\n",
    "df_archeologischComplexPostTriply = load_table_to_dataframe(\"database.db\", \"archeologischComplexPostTriply\")\n",
    "df_vondstenPostTriply = load_table_to_dataframe(\"database.db\", \"vondstenPostTriply\")\n",
    "df_vondstlocatiePostTriply = load_table_to_dataframe(\"database.db\", \"vondstlocatiePostTriply\")\n",
    "df_grondsporenPostTriply = load_table_to_dataframe(\"database.db\", \"grondsporenPostTriply\")"
   ]
  },
  {
   "cell_type": "code",
   "execution_count": 11,
   "metadata": {},
   "outputs": [],
   "source": [
    "df_postTriply = pd.concat([df_archeologischOnderzoeksgebiedPostTriply, \n",
    "                           df_archeologischComplexPostTriply, \n",
    "                           df_vondstenPostTriply, \n",
    "                           df_vondstlocatiePostTriply, \n",
    "                           df_grondsporenPostTriply])"
   ]
  },
  {
   "cell_type": "code",
   "execution_count": 12,
   "metadata": {},
   "outputs": [],
   "source": [
    "df_postTriply.to_csv('csv/postTriplyDataframe.csv', index=False)"
   ]
  },
  {
   "cell_type": "code",
   "execution_count": 13,
   "metadata": {},
   "outputs": [],
   "source": [
    "del df_archeologischOnderzoeksgebiedPostTriply, df_archeologischComplexPostTriply, df_vondstenPostTriply, df_vondstlocatiePostTriply, df_grondsporenPostTriply"
   ]
  }
 ],
 "metadata": {
  "kernelspec": {
   "display_name": "Python 3",
   "language": "python",
   "name": "python3"
  },
  "language_info": {
   "codemirror_mode": {
    "name": "ipython",
    "version": 3
   },
   "file_extension": ".py",
   "mimetype": "text/x-python",
   "name": "python",
   "nbconvert_exporter": "python",
   "pygments_lexer": "ipython3",
   "version": "3.10.12"
  }
 },
 "nbformat": 4,
 "nbformat_minor": 2
}
